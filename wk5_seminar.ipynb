{
 "cells": [
  {
   "cell_type": "code",
   "execution_count": null,
   "metadata": {},
   "outputs": [],
   "source": [
    "# Exercise 1: Work with the person next to you to design \n",
    "# classes to manage the products, customers, and purchase \n",
    "# orders for an online book store such as amazon.com. \n",
    "# Outline the data attributes and useful methods for \n",
    "# each class. You can discuss and create the outline together. \n",
    "\n",
    "class Products(object):\n",
    "    '''Placeholder'''\n",
    "    def __init__(self, name, price):\n",
    "        '''Creates ___'''\n",
    "        pass\n",
    "    \n",
    "    def get_name(self):\n",
    "        '''Gets ___'''\n",
    "        pass\n",
    "    \n",
    "    def get_self(self):\n",
    "        '''Gets ___'''\n",
    "        pass\n",
    "    \n",
    "class Customers(object): \n",
    "    '''Placeholder'''\n",
    "    def __init__(self, customer_id):\n",
    "        '''Creates ___'''\n",
    "        pass\n",
    "    \n",
    "    def get_customer_id(self):\n",
    "        '''Gets ___'''\n",
    "        pass\n",
    "    \n",
    "class BookOrders(object):\n",
    "    '''Placeholder'''\n",
    "    def __init__(self, title, author):\n",
    "        '''Creates ___'''\n",
    "        pass\n",
    "    \n",
    "    def get_title(self):\n",
    "        '''Gets ___'''\n",
    "        pass\n",
    "    \n",
    "    def get_author(self):\n",
    "        '''Gets ___'''\n",
    "        pass \n"
   ]
  },
  {
   "cell_type": "code",
   "execution_count": null,
   "metadata": {},
   "outputs": [],
   "source": [
    "# Exercise 2: Create a new repository in your account and upload \n",
    "# the class hierarchy you created. Practice cloning locally, \n",
    "# making changes, and uploading the changed file to your remote \n",
    "# repository by creating a branch and opening a pull request. \n",
    "# (Note that in order for others to be able to upload files \n",
    "# to your repository, you need to grant them push access.)\n",
    "\n"
   ]
  },
  {
   "cell_type": "code",
   "execution_count": null,
   "metadata": {},
   "outputs": [],
   "source": [
    "# Exercise 3: Open a new issue in your partner's repository. \n",
    "# (Note that you don't need push access to open issues.)\n",
    "\n"
   ]
  }
 ],
 "metadata": {
  "kernelspec": {
   "display_name": "Python 3",
   "language": "python",
   "name": "python3"
  },
  "language_info": {
   "codemirror_mode": {
    "name": "ipython",
    "version": 3
   },
   "file_extension": ".py",
   "mimetype": "text/x-python",
   "name": "python",
   "nbconvert_exporter": "python",
   "pygments_lexer": "ipython3",
   "version": "3.7.3"
  }
 },
 "nbformat": 4,
 "nbformat_minor": 2
}
